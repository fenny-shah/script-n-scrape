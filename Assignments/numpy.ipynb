{
 "cells": [
  {
   "cell_type": "markdown",
   "metadata": {},
   "source": [
    "# NumPy"
   ]
  },
  {
   "cell_type": "markdown",
   "metadata": {},
   "source": [
    "This shall give you an idea of the intricacies in this library and will make you appreciate why NumPy is soo useful. "
   ]
  },
  {
   "cell_type": "code",
   "execution_count": null,
   "metadata": {},
   "outputs": [],
   "source": [
    "import numpy as np"
   ]
  },
  {
   "cell_type": "markdown",
   "metadata": {},
   "source": [
    "## Vectorization\n",
    "\n",
    "NumPy vectorization involves performing mathematical operations on entire\n",
    "arrays, eliminating the need to loop through individual elements.\n",
    "\n",
    "Let's compare the execution times of a non-vectorized program and a vectorized one.\n",
    "\n",
    "Your goal is to multiply each element of the 2D arrays by 3. Implement this using both non-vectorized and vectorized approaches.\n",
    "\n"
   ]
  },
  {
   "cell_type": "code",
   "execution_count": null,
   "metadata": {},
   "outputs": [],
   "source": [
    "import time\n",
    "\n",
    "arr_nonvectorized = np.random.rand(1000, 1000)\n",
    "arr_vectorized = np.array(arr_nonvectorized) # making a deep copy of the array https://stackoverflow.com/questions/184710/what-is-the-difference-between-a-deep-copy-and-a-shallow-copy\n",
    "\n",
    "start_nv = time.time()\n",
    "\n",
    "# Non-vectorized approach\n",
    "# <START>\n",
    "\n",
    "# <END>\n",
    "\n",
    "end_nv = time.time()\n",
    "print(\"Time taken in non-vectorized approach:\", 1000*(end_nv-start_nv), \"ms\")\n",
    "\n",
    "start_v = time.time()\n",
    "\n",
    "# Vectorized approach\n",
    "# <START>\n",
    "\n",
    "# <END>\n",
    "\n",
    "end_v = time.time()\n",
    "print(\"Time taken in vectorized approach:\", 1000*(end_v-start_v), \"ms\")\n",
    "\n",
    "# uncomment and execute the below line to convince yourself that both approaches are doing the same thing\n",
    "# print(np.allclose(arr_nonvectorized, arr_vectorized))"
   ]
  },
  {
   "cell_type": "markdown",
   "metadata": {},
   "source": [
    "Perform Matrix Multiplication of A and B using vectorized and non-vectorized means and observe the time difference."
   ]
  },
  {
   "cell_type": "code",
   "execution_count": null,
   "metadata": {},
   "outputs": [],
   "source": [
    "# Generate two random 500x500 matrices\n",
    "A = np.random.rand(500, 500)\n",
    "B = np.random.rand(500, 500)\n",
    "\n",
    "# Non-vectorized matrix multiplication\n",
    "C_nonvectorized = np.zeros((500, 500))  # Initialize result matrix\n",
    "start_nv = time.time()\n",
    "\n",
    "# <START: Non-vectorized approach>\n",
    "\n",
    "# <END>\n",
    "\n",
    "end_nv = time.time()\n",
    "print(\"Time taken in non-vectorized approach:\", 1000 * (end_nv - start_nv), \"ms\")\n",
    "\n",
    "# Vectorized matrix multiplication\n",
    "start_v = time.time()\n",
    "\n",
    "# <START: Vectorized approach>\n",
    "\n",
    "# <END>\n",
    "\n",
    "end_v = time.time()\n",
    "print(\"Time taken in vectorized approach:\", 1000 * (end_v - start_v), \"ms\")\n",
    "\n",
    "# Uncomment and execute the below line to verify both approaches give the same result\n",
    "# print(np.allclose(C_nonvectorized, C_vectorized))"
   ]
  },
  {
   "cell_type": "markdown",
   "metadata": {},
   "source": [
    "Vectorization uses NuPy's low level operations to speed things up. Make sure you know why!"
   ]
  },
  {
   "cell_type": "markdown",
   "metadata": {},
   "source": [
    "### :\\\\/: *no for loops alllowed  hereafter* :\\\\/:"
   ]
  },
  {
   "cell_type": "markdown",
   "metadata": {},
   "source": [
    "## Broadcasting\n",
    "\n",
    "You are given a set of 5 2D points as an ndarray and you want to compute the euclidean distance between each pair of points and store it into a 5*5 ndarray.\n",
    "\n",
    "*Hint: use the* `np.linalg.norm()` *function for this*"
   ]
  },
  {
   "cell_type": "code",
   "execution_count": null,
   "metadata": {},
   "outputs": [],
   "source": [
    "import numpy as np\n",
    "\n",
    "# Generate a random 5x2 array of points (values between 0 and 10)\n",
    "points = np.random.rand(5, 2) * 10\n",
    "print(\"2D Points:\\n\", points)\n",
    "\n",
    "# Task: Compute pairwise Euclidean distances using broadcasting\n",
    "# <START: Pairwise distance computation>\n",
    "distance_matrix = None # Replace with broadcasting operation\n",
    "# <END>\n",
    "\n",
    "#  Print the distance matrix\n",
    "print(\"Pairwise Euclidean Distance Matrix:\\n\", distance_matrix)\n"
   ]
  },
  {
   "cell_type": "code",
   "execution_count": null,
   "metadata": {},
   "outputs": [],
   "source": [
    "# 2 x 5 x 5\n",
    "(9.71911312 - 4.1080346)**2 + (6.53592428-5.63094852)**2"
   ]
  },
  {
   "cell_type": "markdown",
   "metadata": {},
   "source": [
    "## "
   ]
  }
 ],
 "metadata": {
  "kernelspec": {
   "display_name": "base",
   "language": "python",
   "name": "python3"
  },
  "language_info": {
   "codemirror_mode": {
    "name": "ipython",
    "version": 3
   },
   "file_extension": ".py",
   "mimetype": "text/x-python",
   "name": "python",
   "nbconvert_exporter": "python",
   "pygments_lexer": "ipython3",
   "version": "3.11.8"
  }
 },
 "nbformat": 4,
 "nbformat_minor": 2
}
